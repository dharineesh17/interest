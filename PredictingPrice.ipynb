{
  "nbformat": 4,
  "nbformat_minor": 0,
  "metadata": {
    "kernelspec": {
      "language": "python",
      "display_name": "Python 3",
      "name": "python3"
    },
    "language_info": {
      "pygments_lexer": "ipython3",
      "nbconvert_exporter": "python",
      "version": "3.6.4",
      "file_extension": ".py",
      "codemirror_mode": {
        "name": "ipython",
        "version": 3
      },
      "name": "python",
      "mimetype": "text/x-python"
    },
    "colab": {
      "name": "Minor_Project.ipynb",
      "provenance": [],
      "include_colab_link": true
    }
  },
  "cells": [
    {
      "cell_type": "markdown",
      "metadata": {
        "id": "view-in-github",
        "colab_type": "text"
      },
      "source": [
        "<a href=\"https://colab.research.google.com/github/dharineesh17/internprojects/blob/main/Minor_Project.ipynb\" target=\"_parent\"><img src=\"https://colab.research.google.com/assets/colab-badge.svg\" alt=\"Open In Colab\"/></a>"
      ]
    },
    {
      "cell_type": "markdown",
      "metadata": {
        "id": "CwhkynI_yBs9"
      },
      "source": [
        "# ***Multi Linear Regression***"
      ]
    },
    {
      "cell_type": "markdown",
      "metadata": {
        "id": "9xyIQJG5M2VQ"
      },
      "source": [
        "## ***Creating model to predict the house price of unit area***"
      ]
    },
    {
      "cell_type": "markdown",
      "metadata": {
        "id": "YlmwKrga94Wq"
      },
      "source": [
        "### ***Creating dataframe***"
      ]
    },
    {
      "cell_type": "code",
      "metadata": {
        "execution": {
          "iopub.status.busy": "2021-09-25T15:11:58.398565Z",
          "iopub.execute_input": "2021-09-25T15:11:58.398885Z",
          "iopub.status.idle": "2021-09-25T15:11:58.429865Z",
          "shell.execute_reply.started": "2021-09-25T15:11:58.39886Z",
          "shell.execute_reply": "2021-09-25T15:11:58.429219Z"
        },
        "trusted": true,
        "colab": {
          "base_uri": "https://localhost:8080/",
          "height": 223
        },
        "id": "AXfceZC1i3Zw",
        "outputId": "57392bba-fbb0-440e-9545-fa417c84c8cd"
      },
      "source": [
        "import pandas as pd # importing pandas library\n",
        "\n",
        "df = pd.read_csv('/content/Real estate.csv') # creating dataframe\n",
        "df.head() # it returns 5 rows "
      ],
      "execution_count": null,
      "outputs": [
        {
          "output_type": "execute_result",
          "data": {
            "text/html": [
              "<div>\n",
              "<style scoped>\n",
              "    .dataframe tbody tr th:only-of-type {\n",
              "        vertical-align: middle;\n",
              "    }\n",
              "\n",
              "    .dataframe tbody tr th {\n",
              "        vertical-align: top;\n",
              "    }\n",
              "\n",
              "    .dataframe thead th {\n",
              "        text-align: right;\n",
              "    }\n",
              "</style>\n",
              "<table border=\"1\" class=\"dataframe\">\n",
              "  <thead>\n",
              "    <tr style=\"text-align: right;\">\n",
              "      <th></th>\n",
              "      <th>No</th>\n",
              "      <th>X1 transaction date</th>\n",
              "      <th>X2 house age</th>\n",
              "      <th>X3 distance to the nearest MRT station</th>\n",
              "      <th>X4 number of convenience stores</th>\n",
              "      <th>X5 latitude</th>\n",
              "      <th>X6 longitude</th>\n",
              "      <th>Y house price of unit area</th>\n",
              "    </tr>\n",
              "  </thead>\n",
              "  <tbody>\n",
              "    <tr>\n",
              "      <th>0</th>\n",
              "      <td>1</td>\n",
              "      <td>2012.917</td>\n",
              "      <td>32.0</td>\n",
              "      <td>84.87882</td>\n",
              "      <td>10</td>\n",
              "      <td>24.98298</td>\n",
              "      <td>121.54024</td>\n",
              "      <td>37.9</td>\n",
              "    </tr>\n",
              "    <tr>\n",
              "      <th>1</th>\n",
              "      <td>2</td>\n",
              "      <td>2012.917</td>\n",
              "      <td>19.5</td>\n",
              "      <td>306.59470</td>\n",
              "      <td>9</td>\n",
              "      <td>24.98034</td>\n",
              "      <td>121.53951</td>\n",
              "      <td>42.2</td>\n",
              "    </tr>\n",
              "    <tr>\n",
              "      <th>2</th>\n",
              "      <td>3</td>\n",
              "      <td>2013.583</td>\n",
              "      <td>13.3</td>\n",
              "      <td>561.98450</td>\n",
              "      <td>5</td>\n",
              "      <td>24.98746</td>\n",
              "      <td>121.54391</td>\n",
              "      <td>47.3</td>\n",
              "    </tr>\n",
              "    <tr>\n",
              "      <th>3</th>\n",
              "      <td>4</td>\n",
              "      <td>2013.500</td>\n",
              "      <td>13.3</td>\n",
              "      <td>561.98450</td>\n",
              "      <td>5</td>\n",
              "      <td>24.98746</td>\n",
              "      <td>121.54391</td>\n",
              "      <td>54.8</td>\n",
              "    </tr>\n",
              "    <tr>\n",
              "      <th>4</th>\n",
              "      <td>5</td>\n",
              "      <td>2012.833</td>\n",
              "      <td>5.0</td>\n",
              "      <td>390.56840</td>\n",
              "      <td>5</td>\n",
              "      <td>24.97937</td>\n",
              "      <td>121.54245</td>\n",
              "      <td>43.1</td>\n",
              "    </tr>\n",
              "  </tbody>\n",
              "</table>\n",
              "</div>"
            ],
            "text/plain": [
              "   No  X1 transaction date  ...  X6 longitude  Y house price of unit area\n",
              "0   1             2012.917  ...     121.54024                        37.9\n",
              "1   2             2012.917  ...     121.53951                        42.2\n",
              "2   3             2013.583  ...     121.54391                        47.3\n",
              "3   4             2013.500  ...     121.54391                        54.8\n",
              "4   5             2012.833  ...     121.54245                        43.1\n",
              "\n",
              "[5 rows x 8 columns]"
            ]
          },
          "metadata": {},
          "execution_count": 543
        }
      ]
    },
    {
      "cell_type": "markdown",
      "metadata": {
        "id": "J292SHpq-SDm"
      },
      "source": [
        "### ***Exploratory Data Analysis*** "
      ]
    },
    {
      "cell_type": "code",
      "metadata": {
        "execution": {
          "iopub.status.busy": "2021-09-25T15:11:58.431234Z",
          "iopub.execute_input": "2021-09-25T15:11:58.431574Z",
          "iopub.status.idle": "2021-09-25T15:11:58.444712Z",
          "shell.execute_reply.started": "2021-09-25T15:11:58.431545Z",
          "shell.execute_reply": "2021-09-25T15:11:58.443647Z"
        },
        "trusted": true,
        "colab": {
          "base_uri": "https://localhost:8080/"
        },
        "id": "v4GKi1X4i3Zx",
        "outputId": "d4a9af74-8b5b-4667-bca9-4f4b1f625ded"
      },
      "source": [
        "df.info() # information about dataset"
      ],
      "execution_count": null,
      "outputs": [
        {
          "output_type": "stream",
          "name": "stdout",
          "text": [
            "<class 'pandas.core.frame.DataFrame'>\n",
            "RangeIndex: 414 entries, 0 to 413\n",
            "Data columns (total 8 columns):\n",
            " #   Column                                  Non-Null Count  Dtype  \n",
            "---  ------                                  --------------  -----  \n",
            " 0   No                                      414 non-null    int64  \n",
            " 1   X1 transaction date                     414 non-null    float64\n",
            " 2   X2 house age                            414 non-null    float64\n",
            " 3   X3 distance to the nearest MRT station  414 non-null    float64\n",
            " 4   X4 number of convenience stores         414 non-null    int64  \n",
            " 5   X5 latitude                             414 non-null    float64\n",
            " 6   X6 longitude                            414 non-null    float64\n",
            " 7   Y house price of unit area              414 non-null    float64\n",
            "dtypes: float64(6), int64(2)\n",
            "memory usage: 26.0 KB\n"
          ]
        }
      ]
    },
    {
      "cell_type": "code",
      "metadata": {
        "execution": {
          "iopub.status.busy": "2021-09-25T15:11:58.469886Z",
          "iopub.execute_input": "2021-09-25T15:11:58.470804Z",
          "iopub.status.idle": "2021-09-25T15:11:58.480875Z",
          "shell.execute_reply.started": "2021-09-25T15:11:58.470756Z",
          "shell.execute_reply": "2021-09-25T15:11:58.479875Z"
        },
        "trusted": true,
        "colab": {
          "base_uri": "https://localhost:8080/"
        },
        "id": "tZLuXuAzi3Zy",
        "outputId": "38b05a69-dfc6-43f3-daeb-c168d36fd7da"
      },
      "source": [
        "df.shape"
      ],
      "execution_count": null,
      "outputs": [
        {
          "output_type": "execute_result",
          "data": {
            "text/plain": [
              "(414, 8)"
            ]
          },
          "metadata": {},
          "execution_count": 545
        }
      ]
    },
    {
      "cell_type": "code",
      "metadata": {
        "execution": {
          "iopub.status.busy": "2021-09-25T15:11:58.446285Z",
          "iopub.execute_input": "2021-09-25T15:11:58.446885Z",
          "iopub.status.idle": "2021-09-25T15:11:58.467441Z",
          "shell.execute_reply.started": "2021-09-25T15:11:58.44685Z",
          "shell.execute_reply": "2021-09-25T15:11:58.466479Z"
        },
        "trusted": true,
        "colab": {
          "base_uri": "https://localhost:8080/",
          "height": 206
        },
        "id": "5as7as7ji3Zy",
        "outputId": "2b957b09-24c3-465b-b756-c07394d42a78"
      },
      "source": [
        "# data cleaning\n",
        "df = df.drop(['No','X1 transaction date'],axis = 1) # droping unwanted column\n",
        "df.head()"
      ],
      "execution_count": null,
      "outputs": [
        {
          "output_type": "execute_result",
          "data": {
            "text/html": [
              "<div>\n",
              "<style scoped>\n",
              "    .dataframe tbody tr th:only-of-type {\n",
              "        vertical-align: middle;\n",
              "    }\n",
              "\n",
              "    .dataframe tbody tr th {\n",
              "        vertical-align: top;\n",
              "    }\n",
              "\n",
              "    .dataframe thead th {\n",
              "        text-align: right;\n",
              "    }\n",
              "</style>\n",
              "<table border=\"1\" class=\"dataframe\">\n",
              "  <thead>\n",
              "    <tr style=\"text-align: right;\">\n",
              "      <th></th>\n",
              "      <th>X2 house age</th>\n",
              "      <th>X3 distance to the nearest MRT station</th>\n",
              "      <th>X4 number of convenience stores</th>\n",
              "      <th>X5 latitude</th>\n",
              "      <th>X6 longitude</th>\n",
              "      <th>Y house price of unit area</th>\n",
              "    </tr>\n",
              "  </thead>\n",
              "  <tbody>\n",
              "    <tr>\n",
              "      <th>0</th>\n",
              "      <td>32.0</td>\n",
              "      <td>84.87882</td>\n",
              "      <td>10</td>\n",
              "      <td>24.98298</td>\n",
              "      <td>121.54024</td>\n",
              "      <td>37.9</td>\n",
              "    </tr>\n",
              "    <tr>\n",
              "      <th>1</th>\n",
              "      <td>19.5</td>\n",
              "      <td>306.59470</td>\n",
              "      <td>9</td>\n",
              "      <td>24.98034</td>\n",
              "      <td>121.53951</td>\n",
              "      <td>42.2</td>\n",
              "    </tr>\n",
              "    <tr>\n",
              "      <th>2</th>\n",
              "      <td>13.3</td>\n",
              "      <td>561.98450</td>\n",
              "      <td>5</td>\n",
              "      <td>24.98746</td>\n",
              "      <td>121.54391</td>\n",
              "      <td>47.3</td>\n",
              "    </tr>\n",
              "    <tr>\n",
              "      <th>3</th>\n",
              "      <td>13.3</td>\n",
              "      <td>561.98450</td>\n",
              "      <td>5</td>\n",
              "      <td>24.98746</td>\n",
              "      <td>121.54391</td>\n",
              "      <td>54.8</td>\n",
              "    </tr>\n",
              "    <tr>\n",
              "      <th>4</th>\n",
              "      <td>5.0</td>\n",
              "      <td>390.56840</td>\n",
              "      <td>5</td>\n",
              "      <td>24.97937</td>\n",
              "      <td>121.54245</td>\n",
              "      <td>43.1</td>\n",
              "    </tr>\n",
              "  </tbody>\n",
              "</table>\n",
              "</div>"
            ],
            "text/plain": [
              "   X2 house age  ...  Y house price of unit area\n",
              "0          32.0  ...                        37.9\n",
              "1          19.5  ...                        42.2\n",
              "2          13.3  ...                        47.3\n",
              "3          13.3  ...                        54.8\n",
              "4           5.0  ...                        43.1\n",
              "\n",
              "[5 rows x 6 columns]"
            ]
          },
          "metadata": {},
          "execution_count": 546
        }
      ]
    },
    {
      "cell_type": "code",
      "metadata": {
        "colab": {
          "base_uri": "https://localhost:8080/"
        },
        "id": "23aEmwPX_8f1",
        "outputId": "fadbdda2-fbc7-4b7f-f7b4-b975290570a6"
      },
      "source": [
        "df.shape # after data cleaning"
      ],
      "execution_count": null,
      "outputs": [
        {
          "output_type": "execute_result",
          "data": {
            "text/plain": [
              "(414, 6)"
            ]
          },
          "metadata": {},
          "execution_count": 547
        }
      ]
    },
    {
      "cell_type": "markdown",
      "metadata": {
        "id": "qbpx-AggAREq"
      },
      "source": [
        "### ***Data Visualization***"
      ]
    },
    {
      "cell_type": "code",
      "metadata": {
        "id": "Lh-YPkXK9aMx"
      },
      "source": [
        "# importing data visualization libraries\n",
        "import seaborn as sns \n",
        "import matplotlib.pyplot as plt\n"
      ],
      "execution_count": null,
      "outputs": []
    },
    {
      "cell_type": "code",
      "metadata": {
        "execution": {
          "iopub.status.busy": "2021-09-25T15:13:23.363696Z",
          "iopub.execute_input": "2021-09-25T15:13:23.363964Z",
          "iopub.status.idle": "2021-09-25T15:13:23.644626Z",
          "shell.execute_reply.started": "2021-09-25T15:13:23.363936Z",
          "shell.execute_reply": "2021-09-25T15:13:23.64343Z"
        },
        "trusted": true,
        "colab": {
          "base_uri": "https://localhost:8080/",
          "height": 369
        },
        "id": "nD1ilpFKi3Z0",
        "outputId": "8b9d59f9-149f-4e0e-bfb0-64b0990b0511"
      },
      "source": [
        "# Data visualization\n",
        "\n",
        "sns.displot(df['Y house price of unit area'],kde = True)\n",
        "plt.show()"
      ],
      "execution_count": null,
      "outputs": [
        {
          "output_type": "display_data",
          "data": {
            "image/png": "[encoded data removed]",
            "text/plain": [
              "<Figure size 360x360 with 1 Axes>"
            ]
          },
          "metadata": {
            "needs_background": "light"
          }
        }
      ]
    },
    {
      "cell_type": "code",
      "metadata": {
        "execution": {
          "iopub.status.busy": "2021-09-25T15:13:31.349455Z",
          "iopub.execute_input": "2021-09-25T15:13:31.350248Z",
          "iopub.status.idle": "2021-09-25T15:13:31.357617Z",
          "shell.execute_reply.started": "2021-09-25T15:13:31.350198Z",
          "shell.execute_reply": "2021-09-25T15:13:31.356505Z"
        },
        "trusted": true,
        "colab": {
          "base_uri": "https://localhost:8080/"
        },
        "id": "cqtLgxQEi3Z1",
        "outputId": "a6302735-2200-4377-c417-1079fc3ce3bd"
      },
      "source": [
        "print(\"Minimun price is \",df['Y house price of unit area'].min())\n",
        "print(\"Maximum price is \",df['Y house price of unit area'].max())"
      ],
      "execution_count": null,
      "outputs": [
        {
          "output_type": "stream",
          "name": "stdout",
          "text": [
            "Minimun price is  7.6\n",
            "Maximum price is  117.5\n"
          ]
        }
      ]
    },
    {
      "cell_type": "markdown",
      "metadata": {
        "id": "feEor51SBO3z"
      },
      "source": [
        "### ***Spliting datasets into input and output***"
      ]
    },
    {
      "cell_type": "code",
      "metadata": {
        "execution": {
          "iopub.status.busy": "2021-09-25T15:13:15.239243Z",
          "iopub.execute_input": "2021-09-25T15:13:15.239503Z",
          "iopub.status.idle": "2021-09-25T15:13:15.245475Z",
          "shell.execute_reply.started": "2021-09-25T15:13:15.239477Z",
          "shell.execute_reply": "2021-09-25T15:13:15.244813Z"
        },
        "trusted": true,
        "id": "l0Vw_G44i3Zz"
      },
      "source": [
        "x = df.iloc[:,0:5].values # x for input\n",
        "y = df.iloc[:,5].values   # y for output"
      ],
      "execution_count": null,
      "outputs": []
    },
    {
      "cell_type": "code",
      "metadata": {
        "execution": {
          "iopub.status.busy": "2021-09-25T15:13:19.144131Z",
          "iopub.execute_input": "2021-09-25T15:13:19.144418Z",
          "iopub.status.idle": "2021-09-25T15:13:19.151415Z",
          "shell.execute_reply.started": "2021-09-25T15:13:19.144391Z",
          "shell.execute_reply": "2021-09-25T15:13:19.150228Z"
        },
        "trusted": true,
        "colab": {
          "base_uri": "https://localhost:8080/"
        },
        "id": "jCz5haPUi3Zz",
        "outputId": "01f59dd6-1494-4ca8-9c84-06ed6bcabef5"
      },
      "source": [
        "# checking dimenstions of input and output\n",
        "print(x.ndim)\n",
        "print(y.ndim)"
      ],
      "execution_count": null,
      "outputs": [
        {
          "output_type": "stream",
          "name": "stdout",
          "text": [
            "2\n",
            "1\n"
          ]
        }
      ]
    },
    {
      "cell_type": "markdown",
      "metadata": {
        "id": "2Ui4-WIKB1Aw"
      },
      "source": [
        "### ***Spliting datasets into training dataset and testing dataset***"
      ]
    },
    {
      "cell_type": "code",
      "metadata": {
        "trusted": true,
        "id": "CyyNMSoOi3Z2"
      },
      "source": [
        "from sklearn.model_selection import train_test_split as tts \n",
        "\n",
        "x_train,x_test,y_train,y_test = tts(x,y,test_size =0.19 ,random_state = 0)\n",
        "\n"
      ],
      "execution_count": null,
      "outputs": []
    },
    {
      "cell_type": "code",
      "metadata": {
        "colab": {
          "base_uri": "https://localhost:8080/"
        },
        "id": "1SOl5d0jmSzr",
        "outputId": "b33cf88e-ae50-4157-bf82-6f4da58347f1"
      },
      "source": [
        "print(\"shape of x_train dataset is \",x_train.shape)\n",
        "print(\"shape of x_test  dataset is \",x_test.shape)\n",
        "print(\"shape of y_train dataset is \",y_train.shape)\n",
        "print(\"shape of y_test  dataset is \",y_test.shape)"
      ],
      "execution_count": null,
      "outputs": [
        {
          "output_type": "stream",
          "name": "stdout",
          "text": [
            "shape of x_train dataset is  (335, 5)\n",
            "shape of x_test  dataset is  (79, 5)\n",
            "shape of y_train dataset is  (335,)\n",
            "shape of y_test  dataset is  (79,)\n"
          ]
        }
      ]
    },
    {
      "cell_type": "markdown",
      "metadata": {
        "id": "FW-ZVDgADRnG"
      },
      "source": [
        "### ***Run a regressor Algorithm***"
      ]
    },
    {
      "cell_type": "code",
      "metadata": {
        "id": "VjbJIu8PDi6v"
      },
      "source": [
        "from sklearn.linear_model import LinearRegression as lr"
      ],
      "execution_count": null,
      "outputs": []
    },
    {
      "cell_type": "markdown",
      "metadata": {
        "id": "K7FpALtMDpWr"
      },
      "source": [
        "### ***Fitting the model***"
      ]
    },
    {
      "cell_type": "code",
      "metadata": {
        "execution": {
          "iopub.status.busy": "2021-09-25T15:11:58.525563Z",
          "iopub.status.idle": "2021-09-25T15:11:58.526573Z",
          "shell.execute_reply.started": "2021-09-25T15:11:58.526248Z",
          "shell.execute_reply": "2021-09-25T15:11:58.526279Z"
        },
        "trusted": true,
        "colab": {
          "base_uri": "https://localhost:8080/"
        },
        "id": "RUcmZFd-i3Z3",
        "outputId": "3a3cd23b-0d3a-4e9f-fe4f-738a4a5af67d"
      },
      "source": [
        "model = lr() # creating the model\n",
        "\n",
        "model.fit(x_train,y_train) # fitting"
      ],
      "execution_count": null,
      "outputs": [
        {
          "output_type": "execute_result",
          "data": {
            "text/plain": [
              "LinearRegression(copy_X=True, fit_intercept=True, n_jobs=None, normalize=False)"
            ]
          },
          "metadata": {},
          "execution_count": 556
        }
      ]
    },
    {
      "cell_type": "markdown",
      "metadata": {
        "id": "_PSZ_eBGFcwj"
      },
      "source": [
        "### ***Prediting output***"
      ]
    },
    {
      "cell_type": "code",
      "metadata": {
        "colab": {
          "base_uri": "https://localhost:8080/"
        },
        "id": "4tRbDRU3EFol",
        "outputId": "dfc8d1c7-3e3e-453a-e20d-33312f2fa8c1"
      },
      "source": [
        "# Prediction\n",
        "predict = model.predict(x_test)\n",
        "predict"
      ],
      "execution_count": null,
      "outputs": [
        {
          "output_type": "execute_result",
          "data": {
            "text/plain": [
              "array([41.36776466, 12.33396871, 41.02509727, 12.14546542, 40.33475966,\n",
              "       40.13709621, 39.84566513, 33.84987208, 48.05114258, 44.51354776,\n",
              "       45.23775131, 40.66705946, 40.75993253, 40.16666663, 48.70426768,\n",
              "       35.82351155, 39.93182752, 42.34393434, 41.8424676 , 43.52231978,\n",
              "       52.17818486, 30.75761186, 41.08637869, 45.85871462, 47.37208198,\n",
              "       44.53052366, 45.02936451, 28.57685056, 47.65830972, 23.41913185,\n",
              "       42.7505622 , 32.87255634, 43.99889153, 36.08709248, 45.16261714,\n",
              "       30.70431081, 47.6439341 , 38.97627585, 54.01016345, 10.13107449,\n",
              "       51.27228827, 34.05986335, 35.85361824, 47.94126042, 14.70862652,\n",
              "       42.58342308, 44.5415387 , 15.27323706, 32.701335  , 46.47287963,\n",
              "       51.96498066, 41.22448665, 49.04713392, 24.46379337, 30.78426238,\n",
              "       35.67992358, 48.45871055, 40.43985732, 45.34435341, 32.97915844,\n",
              "       42.20645415, 42.21426022, 39.62579604, 48.21104573, 39.00829719,\n",
              "       30.04879013, 12.54753553, 32.77222972, 48.64526422, 40.13709621,\n",
              "       31.98945606, 47.76491182, 44.02785113, 32.29812576, 40.07729674,\n",
              "       34.6533599 , 33.72741661, 15.13916718, 45.77876305])"
            ]
          },
          "metadata": {},
          "execution_count": 557
        }
      ]
    },
    {
      "cell_type": "code",
      "metadata": {
        "execution": {
          "iopub.status.busy": "2021-09-25T15:11:58.528056Z",
          "iopub.status.idle": "2021-09-25T15:11:58.528578Z",
          "shell.execute_reply.started": "2021-09-25T15:11:58.528309Z",
          "shell.execute_reply": "2021-09-25T15:11:58.528333Z"
        },
        "trusted": true,
        "colab": {
          "base_uri": "https://localhost:8080/"
        },
        "id": "cKm2ge8_i3Z4",
        "outputId": "71ef3213-688d-438d-dada-d311fbf7d673"
      },
      "source": [
        "y_test # original "
      ],
      "execution_count": null,
      "outputs": [
        {
          "output_type": "execute_result",
          "data": {
            "text/plain": [
              "array([45.3, 14.4, 46. , 15.6, 50.2, 38.1, 48.5, 41.4, 51.6, 40.1, 42. ,\n",
              "       42.4, 28.5, 39.1, 53.7, 36.8, 40.6, 55.2, 39.3, 44.3, 53.5, 25.3,\n",
              "       22.8, 51.7, 45.5, 34.4, 31.6, 25.9, 49.5, 24.7, 51.7, 29.7, 45.4,\n",
              "       50.5, 26.5, 30.1, 46.1, 28.9, 54.4, 15. , 44.9, 29.8, 23.6, 48. ,\n",
              "       16.7, 40.9, 40.2, 12.9, 21.3, 62.1, 63.9, 40.3, 42.2, 19.1, 28.4,\n",
              "       28.5, 60.7, 37.5, 39.3, 28.8, 42.3, 44.3, 42.6, 57.4, 42.2, 25.7,\n",
              "       13.2, 27. , 56.2, 38.3, 20.8, 43.1, 78.3, 20.9, 32.5, 33.4, 32.1,\n",
              "       19.2, 53. ])"
            ]
          },
          "metadata": {},
          "execution_count": 558
        }
      ]
    },
    {
      "cell_type": "code",
      "metadata": {
        "colab": {
          "base_uri": "https://localhost:8080/"
        },
        "id": "2Ahr1BjRLTgz",
        "outputId": "db92705b-44bc-4642-b813-b7192198b8e9"
      },
      "source": [
        "# testing model\n",
        "model.predict([[55,\t61.98450,\t8,\t24.98746,\t121.54391]])"
      ],
      "execution_count": null,
      "outputs": [
        {
          "output_type": "execute_result",
          "data": {
            "text/plain": [
              "array([41.14652857])"
            ]
          },
          "metadata": {},
          "execution_count": 559
        }
      ]
    },
    {
      "cell_type": "markdown",
      "metadata": {
        "id": "YhiAXRGWEaYc"
      },
      "source": [
        "### ***Data Visualization after predicting***"
      ]
    },
    {
      "cell_type": "code",
      "metadata": {
        "execution": {
          "iopub.status.busy": "2021-09-25T15:11:58.534368Z",
          "iopub.status.idle": "2021-09-25T15:11:58.534849Z",
          "shell.execute_reply.started": "2021-09-25T15:11:58.534594Z",
          "shell.execute_reply": "2021-09-25T15:11:58.534617Z"
        },
        "trusted": true,
        "colab": {
          "base_uri": "https://localhost:8080/",
          "height": 423
        },
        "id": "xKMgf0qdi3Z5",
        "outputId": "46c92ade-28a5-4eec-fca1-d3383241b3e0"
      },
      "source": [
        "# creating new dataframe \n",
        "df_pred = pd.DataFrame({'actual':y_test,'predicted':prediction})\n",
        "df_pred"
      ],
      "execution_count": null,
      "outputs": [
        {
          "output_type": "execute_result",
          "data": {
            "text/html": [
              "<div>\n",
              "<style scoped>\n",
              "    .dataframe tbody tr th:only-of-type {\n",
              "        vertical-align: middle;\n",
              "    }\n",
              "\n",
              "    .dataframe tbody tr th {\n",
              "        vertical-align: top;\n",
              "    }\n",
              "\n",
              "    .dataframe thead th {\n",
              "        text-align: right;\n",
              "    }\n",
              "</style>\n",
              "<table border=\"1\" class=\"dataframe\">\n",
              "  <thead>\n",
              "    <tr style=\"text-align: right;\">\n",
              "      <th></th>\n",
              "      <th>actual</th>\n",
              "      <th>predicted</th>\n",
              "    </tr>\n",
              "  </thead>\n",
              "  <tbody>\n",
              "    <tr>\n",
              "      <th>0</th>\n",
              "      <td>45.3</td>\n",
              "      <td>41.367765</td>\n",
              "    </tr>\n",
              "    <tr>\n",
              "      <th>1</th>\n",
              "      <td>14.4</td>\n",
              "      <td>12.333969</td>\n",
              "    </tr>\n",
              "    <tr>\n",
              "      <th>2</th>\n",
              "      <td>46.0</td>\n",
              "      <td>41.025097</td>\n",
              "    </tr>\n",
              "    <tr>\n",
              "      <th>3</th>\n",
              "      <td>15.6</td>\n",
              "      <td>12.145465</td>\n",
              "    </tr>\n",
              "    <tr>\n",
              "      <th>4</th>\n",
              "      <td>50.2</td>\n",
              "      <td>40.334760</td>\n",
              "    </tr>\n",
              "    <tr>\n",
              "      <th>...</th>\n",
              "      <td>...</td>\n",
              "      <td>...</td>\n",
              "    </tr>\n",
              "    <tr>\n",
              "      <th>74</th>\n",
              "      <td>32.5</td>\n",
              "      <td>40.077297</td>\n",
              "    </tr>\n",
              "    <tr>\n",
              "      <th>75</th>\n",
              "      <td>33.4</td>\n",
              "      <td>34.653360</td>\n",
              "    </tr>\n",
              "    <tr>\n",
              "      <th>76</th>\n",
              "      <td>32.1</td>\n",
              "      <td>33.727417</td>\n",
              "    </tr>\n",
              "    <tr>\n",
              "      <th>77</th>\n",
              "      <td>19.2</td>\n",
              "      <td>15.139167</td>\n",
              "    </tr>\n",
              "    <tr>\n",
              "      <th>78</th>\n",
              "      <td>53.0</td>\n",
              "      <td>45.778763</td>\n",
              "    </tr>\n",
              "  </tbody>\n",
              "</table>\n",
              "<p>79 rows × 2 columns</p>\n",
              "</div>"
            ],
            "text/plain": [
              "    actual  predicted\n",
              "0     45.3  41.367765\n",
              "1     14.4  12.333969\n",
              "2     46.0  41.025097\n",
              "3     15.6  12.145465\n",
              "4     50.2  40.334760\n",
              "..     ...        ...\n",
              "74    32.5  40.077297\n",
              "75    33.4  34.653360\n",
              "76    32.1  33.727417\n",
              "77    19.2  15.139167\n",
              "78    53.0  45.778763\n",
              "\n",
              "[79 rows x 2 columns]"
            ]
          },
          "metadata": {},
          "execution_count": 560
        }
      ]
    },
    {
      "cell_type": "code",
      "metadata": {
        "colab": {
          "base_uri": "https://localhost:8080/",
          "height": 297
        },
        "id": "WVMCfntcHXax",
        "outputId": "6df8adf2-88a6-437f-8ff3-382d55db2666"
      },
      "source": [
        "# linear regression curve\n",
        "sns.regplot(x=\"actual\",y=\"predicted\",data=df_pred)"
      ],
      "execution_count": null,
      "outputs": [
        {
          "output_type": "execute_result",
          "data": {
            "text/plain": [
              "<matplotlib.axes._subplots.AxesSubplot at 0x7f7a34d84e10>"
            ]
          },
          "metadata": {},
          "execution_count": 561
        },
        {
          "output_type": "display_data",
          "data": {
            "image/png": "[encoded data removed]",
            "text/plain": [
              "<Figure size 432x288 with 1 Axes>"
            ]
          },
          "metadata": {
            "needs_background": "light"
          }
        }
      ]
    },
    {
      "cell_type": "code",
      "metadata": {
        "colab": {
          "base_uri": "https://localhost:8080/",
          "height": 320
        },
        "id": "ZME-QyWSi3Z5",
        "outputId": "fe016761-5b4e-430e-87ac-19b20620b475"
      },
      "source": [
        "df_pred.plot(figsize=(15,5))\n",
        "plt.show()"
      ],
      "execution_count": null,
      "outputs": [
        {
          "output_type": "display_data",
          "data": {
            "image/png": "[encoded data removed]",
            "text/plain": [
              "<Figure size 1080x360 with 1 Axes>"
            ]
          },
          "metadata": {
            "needs_background": "light"
          }
        }
      ]
    },
    {
      "cell_type": "markdown",
      "metadata": {
        "id": "bnSMCaleFPmm"
      },
      "source": [
        "### ***Model Evaluation***"
      ]
    },
    {
      "cell_type": "code",
      "metadata": {
        "colab": {
          "base_uri": "https://localhost:8080/"
        },
        "id": "wJ3QFJp1o7rL",
        "outputId": "8f60522c-051a-4fdb-981d-028e58139c5a"
      },
      "source": [
        "from sklearn.metrics import r2_score as r2\n",
        "print(\"The r2 score is\",r2(y_test,prediction))"
      ],
      "execution_count": null,
      "outputs": [
        {
          "output_type": "stream",
          "name": "stdout",
          "text": [
            "The r2 score is 0.6421654843449265\n"
          ]
        }
      ]
    }
  ]
}
